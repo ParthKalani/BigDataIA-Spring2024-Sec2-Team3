{
 "cells": [
  {
   "cell_type": "code",
   "execution_count": 1,
   "id": "a0cf0353",
   "metadata": {},
   "outputs": [],
   "source": [
    "from diagrams import Diagram, Cluster\n",
    "from diagrams.programming.language import Python \n",
    "from diagrams.onprem.client import User\n",
    "from diagrams.programming.framework import FastAPI\n",
    "from diagrams.onprem.database import PostgreSQL  \n",
    "from diagrams.programming.language import Python as GPT\n",
    "from diagrams.aws.storage import S3    \n",
    "from diagrams.aws.network import CloudFront  \n",
    "from diagrams.onprem.container import Docker\n",
    "from diagrams.aws.compute import EC2\n",
    "from diagrams.onprem import Node  \n",
    "\n",
    "with Diagram(\"Tech Product Recommender\", direction=\"LR\"):\n",
    "\n",
    "    user = User(\"User\")\n",
    "\n",
    "    scraper = Python(\"Web Scraper\")  \n",
    "    ui = Node(\"Streamlit UI\", image=\"streamlit.png\")\n",
    "    \n",
    "    with Cluster(\"Product APIs\"):\n",
    "        api1 = Node(\"Target API\", image=\"target.png\")\n",
    "        api2 = Node(\"BestBuy API\", image=\"bestbuy.png\")\n",
    "        api3 = Node(\"Amazon API\", image=\"amazon.png\")\n",
    "        scraper >> api3 \n",
    "        api1 >> api2 >> api3 >> scraper\n",
    "\n",
    "    with Cluster(\"Frontend\"):\n",
    "        user >> ui\n",
    "\n",
    "    with Cluster(\"Backend\"):\n",
    "        server = FastAPI(\"FastAPI\")\n",
    "        db = PostgreSQL(\"Postgres\")\n",
    "        \n",
    "        ui >> server\n",
    "        server>> scraper\n",
    "        server >> db\n",
    "        db >> server\n",
    "\n",
    "    ml = GPT(\"OpenAI GPT\")\n",
    "    storage = S3(\"S3\")    \n",
    "    cdn = CloudFront(\"CloudFront CDN\")\n",
    "    server >> ml\n",
    "    ml >> storage\n",
    "    storage >> cdn\n",
    "\n",
    "    auth = Node(\"JWT Auth\", image=\"jwt.png\")  \n",
    "    ui >> auth \n",
    "\n",
    "    with Cluster(\"Deployment\"):\n",
    "        workflow = Node(\"Aiflow\", image=\"airflow.png\")\n",
    "        workflow >> Docker(\"Docker\") >> EC2(\"EC2\") \n",
    "        workflow >> server\n",
    "\n",
    "    "
   ]
  }
 ],
 "metadata": {
  "kernelspec": {
   "display_name": "Python 3 (ipykernel)",
   "language": "python",
   "name": "python3"
  },
  "language_info": {
   "codemirror_mode": {
    "name": "ipython",
    "version": 3
   },
   "file_extension": ".py",
   "mimetype": "text/x-python",
   "name": "python",
   "nbconvert_exporter": "python",
   "pygments_lexer": "ipython3",
   "version": "3.9.13"
  }
 },
 "nbformat": 4,
 "nbformat_minor": 5
}
