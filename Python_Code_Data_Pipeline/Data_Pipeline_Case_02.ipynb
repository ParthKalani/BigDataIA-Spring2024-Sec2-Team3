{
 "cells": [
  {
   "cell_type": "code",
   "execution_count": 55,
   "id": "f5b70f33",
   "metadata": {},
   "outputs": [],
   "source": [
    "from diagrams import Diagram, Node, Cluster\n",
    "from diagrams.onprem.client import User\n",
    "from diagrams.onprem.database import PostgreSQL\n",
    "from diagrams.aws.storage import S3\n",
    "from diagrams.aws.compute import Lambda\n",
    "from diagrams.programming.language import Python\n",
    "\n",
    "with Diagram(\"IntelliBuy Data Pipeline\"):\n",
    "    scraper = Python(\"Web Scraper\")\n",
    "    with Cluster(\"Product APIs\"):\n",
    "        api1 = Node(\"Target API\", image=\"target.png\")\n",
    "        api2 = Node(\"BestBuy API\", image=\"best-buy.png\")\n",
    "        api3 = Node(\"Amazon API\", image=\"amazon.png\")\n",
    "        api1 >> api2 >> api3 >> scraper\n",
    "    \n",
    "    #sources = Python(\"Product APIs\")\n",
    "    db = PostgreSQL(\"Raw Data\")\n",
    "    etl = Lambda(\"ETL\")\n",
    "    db1 = PostgreSQL(\"Processed Data\")\n",
    "    storage = S3(\"Backup Data\")\n",
    "    \n",
    "\n",
    "    scraper >> db\n",
    "    db >> etl\n",
    "    etl >> Edge(label=\"Save processed data\") >> db1\n",
    "    etl >> Edge(label=\"Backup processed data\") >> storage"
   ]
  }
 ],
 "metadata": {
  "kernelspec": {
   "display_name": "Python 3 (ipykernel)",
   "language": "python",
   "name": "python3"
  },
  "language_info": {
   "codemirror_mode": {
    "name": "ipython",
    "version": 3
   },
   "file_extension": ".py",
   "mimetype": "text/x-python",
   "name": "python",
   "nbconvert_exporter": "python",
   "pygments_lexer": "ipython3",
   "version": "3.9.13"
  }
 },
 "nbformat": 4,
 "nbformat_minor": 5
}
