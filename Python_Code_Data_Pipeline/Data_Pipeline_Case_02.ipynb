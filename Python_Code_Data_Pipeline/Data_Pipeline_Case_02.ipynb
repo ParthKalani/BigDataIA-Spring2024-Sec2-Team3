{
 "cells": [
  {
   "cell_type": "code",
   "execution_count": 55,
   "id": "f5b70f33",
   "metadata": {},
   "outputs": [],
   "source": [
    "from diagrams import Diagram, Node\n",
    "from diagrams.onprem.client import User\n",
    "from diagrams.onprem.database import PostgreSQL\n",
    "from diagrams.aws.storage import S3\n",
    "from diagrams.aws.compute import Lambda\n",
    "from diagrams.programming.language import Python\n",
    "\n",
    "with Diagram(\"IntelliBuy Data Pipeline\"):\n",
    "    scraper = Python(\"Web Scraper\")\n",
    "    with Cluster(\"Product APIs\"):\n",
    "        api1 = Node(\"Target API\", image=\"target.png\")\n",
    "        api2 = Node(\"BestBuy API\", image=\"best-buy.png\")\n",
    "        api3 = Node(\"Amazon API\", image=\"amazon.png\")\n",
    "        api1 >> api2 >> api3 >> scraper\n",
    "    \n",
    "    #sources = Python(\"Product APIs\")\n",
    "    db = PostgreSQL(\"Raw Data\")\n",
    "    etl = Lambda(\"ETL\")\n",
    "    storage = S3(\"Processed Data\")\n",
    "    \n",
    "\n",
    "    scraper >> db\n",
    "    db >> etl\n",
    "    etl >> storage\n"
   ]
  }
 ],
 "metadata": {
  "kernelspec": {
   "display_name": "Python 3 (ipykernel)",
   "language": "python",
   "name": "python3"
  },
  "language_info": {
   "codemirror_mode": {
    "name": "ipython",
    "version": 3
   },
   "file_extension": ".py",
   "mimetype": "text/x-python",
   "name": "python",
   "nbconvert_exporter": "python",
   "pygments_lexer": "ipython3",
   "version": "3.9.13"
  }
 },
 "nbformat": 4,
 "nbformat_minor": 5
}
